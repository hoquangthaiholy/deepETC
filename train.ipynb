{
  "nbformat": 4,
  "nbformat_minor": 0,
  "metadata": {
    "accelerator": "GPU",
    "colab": {
      "name": "mCNN-ETC - PSSM",
      "provenance": [],
      "collapsed_sections": [],
      "authorship_tag": "ABX9TyNvj8JLmJsCkwPoO0lgKOTG",
      "include_colab_link": true
    },
    "kernelspec": {
      "display_name": "Python 3",
      "name": "python3"
    }
  },
  "cells": [
    {
      "cell_type": "markdown",
      "metadata": {
        "id": "view-in-github",
        "colab_type": "text"
      },
      "source": [
        "<a href=\"https://colab.research.google.com/github/hoquangthaiholy/deepETC/blob/master/train.ipynb\" target=\"_parent\"><img src=\"https://colab.research.google.com/assets/colab-badge.svg\" alt=\"Open In Colab\"/></a>"
      ]
    },
    {
      "cell_type": "code",
      "metadata": {
        "colab": {
          "base_uri": "https://localhost:8080/"
        },
        "id": "U_l3BFZdggiT",
        "outputId": "d95c8f9d-38a8-4809-9edb-aea79d52fd47"
      },
      "source": [
        "from google.colab import drive\n",
        "drive.mount('/content/drive')"
      ],
      "execution_count": null,
      "outputs": [
        {
          "output_type": "stream",
          "text": [
            "Mounted at /content/drive\n"
          ],
          "name": "stdout"
        }
      ]
    },
    {
      "cell_type": "code",
      "metadata": {
        "colab": {
          "base_uri": "https://localhost:8080/"
        },
        "id": "Qr7wJUOPgxyr",
        "outputId": "6248a33e-7b6d-4522-96b7-eff7172d6d13"
      },
      "source": [
        "!cp /content/drive/MyDrive/MultiCNN/pssm_ds.zip ./\n",
        "!unzip pssm_ds.zip"
      ],
      "execution_count": null,
      "outputs": [
        {
          "output_type": "stream",
          "text": [
            "Archive:  pssm_ds.zip\n",
            "  inflating: pssm_train.csv          \n",
            "  inflating: pssm_test.csv           \n"
          ],
          "name": "stdout"
        }
      ]
    },
    {
      "cell_type": "code",
      "metadata": {
        "id": "9JS8KpEJhhVg"
      },
      "source": [
        "MAXSEQ      = 5127\n",
        "NUM_FEATURE = 20\n",
        "BATCH_SIZE  = 128\n",
        "\n",
        "NUM_CLASSES = 2\n",
        "CLASS_NAMES = ['TP','ET']\n",
        "EPOCHS      = 100"
      ],
      "execution_count": null,
      "outputs": []
    },
    {
      "cell_type": "code",
      "metadata": {
        "id": "7XB708_3ik5I"
      },
      "source": [
        "import csv\n",
        "import pandas as pd\n",
        "import numpy as np\n",
        "\n",
        "def load_ds(file_path):\n",
        "  NUM_SAMPLES = 0\n",
        "  with open(file_path) as file:\n",
        "    NUM_SAMPLES = sum(1 for row in file)\n",
        "\n",
        "  data = np.zeros((NUM_SAMPLES, MAXSEQ * NUM_FEATURE), dtype=np.float32 )\n",
        "  labels = np.zeros((NUM_SAMPLES, 1), dtype=np.uint8 )\n",
        "\n",
        "  with open(file_path) as file:\n",
        "    file = csv.reader(file, delimiter = ',')\n",
        "    m = 0\n",
        "    for row in file:\n",
        "      labels[m] = int(row[0])\n",
        "      data[m] = np.array(row[1:]).astype('float32')\n",
        "      m += 1\n",
        "      print(f\"\\rReading {file_path}...\\t{m}/{NUM_SAMPLES}\", end='')\n",
        "  print('\\tDone')\n",
        "  return data, labels"
      ],
      "execution_count": null,
      "outputs": []
    },
    {
      "cell_type": "code",
      "metadata": {
        "colab": {
          "base_uri": "https://localhost:8080/"
        },
        "id": "hW3lfGYZi5vH",
        "outputId": "2d793d41-e88e-4791-8902-13f6fe8073e8"
      },
      "source": [
        "x_train, y_train = load_ds('pssm_train.csv')\n",
        "x_test, y_test = load_ds('pssm_test.csv')\n",
        "\n",
        "# Add a channels dimension\n",
        "x_train = np.reshape( x_train, [-1,1, MAXSEQ, NUM_FEATURE] )\n",
        "x_test = np.reshape( x_test, [-1,1, MAXSEQ, NUM_FEATURE] )\n",
        "\n",
        "print(f\"Train shape: {x_train.shape}\")\n",
        "print(f\"Test shape: {x_test.shape}\")\n",
        "\n",
        "print(f\"Train label shape: {y_train.shape}\")\n",
        "print(f\"Test label shape: {y_test.shape}\")"
      ],
      "execution_count": null,
      "outputs": [
        {
          "output_type": "stream",
          "text": [
            "Reading pssm_train.csv...\t3846/3846\tDone\n",
            "Reading pssm_test.csv...\t772/772\tDone\n",
            "Train shape: (3846, 1, 5127, 20)\n",
            "Test shape: (772, 1, 5127, 20)\n",
            "Train label shape: (3846, 1)\n",
            "Test label shape: (772, 1)\n"
          ],
          "name": "stdout"
        }
      ]
    },
    {
      "cell_type": "code",
      "metadata": {
        "id": "F51_sREOjCU-"
      },
      "source": [
        "import os\n",
        "import tensorflow as tf\n",
        "import math\n",
        "\n",
        "from sklearn import metrics\n",
        "from tensorflow.keras import Model, layers\n",
        "\n",
        "# Convert to categorical labels\n",
        "y_train = tf.keras.utils.to_categorical(y_train,NUM_CLASSES)\n",
        "y_test = tf.keras.utils.to_categorical(y_test,NUM_CLASSES)\n",
        "\n",
        "class DeepScan(Model):\n",
        "  def __init__(self,\n",
        "               input_shape=(1,MAXSEQ, NUM_FEATURE),\n",
        "               window_sizes=[8,12,16,20,24,28,32,36],\n",
        "               num_filters=256,\n",
        "               num_hidden=512):\n",
        "    super(DeepScan, self).__init__()\n",
        "    # Add input layer\n",
        "    self.input_layer = tf.keras.Input(input_shape)\n",
        "    self.window_sizes = window_sizes\n",
        "    self.conv2d = []\n",
        "    self.maxpool = []\n",
        "    self.flatten = []\n",
        "    for window_size in self.window_sizes:\n",
        "      self.conv2d.append(layers.Conv2D(\n",
        "        filters=num_filters,\n",
        "        kernel_size=(1,window_size),\n",
        "        activation=tf.nn.relu,\n",
        "        padding='valid',\n",
        "        bias_initializer=tf.constant_initializer(0.1),\n",
        "        kernel_initializer=tf.keras.initializers.GlorotUniform()\n",
        "      ))\n",
        "      self.maxpool.append(layers.MaxPooling2D(\n",
        "          pool_size=(1,MAXSEQ - window_size + 1),\n",
        "          strides=(1,MAXSEQ),\n",
        "          padding='valid'))\n",
        "      self.flatten.append(layers.Flatten())\n",
        "    self.dropout = layers.Dropout(rate=0.7)\n",
        "    self.fc1 = layers.Dense(\n",
        "      num_hidden,\n",
        "      activation=tf.nn.relu,\n",
        "      bias_initializer=tf.constant_initializer(0.1),\n",
        "      kernel_initializer=tf.keras.initializers.GlorotUniform()\n",
        "    )\n",
        "    self.fc2 = layers.Dense(NUM_CLASSES,activation='softmax',kernel_regularizer=tf.keras.regularizers.l2(1e-3))\n",
        "\n",
        "    # Get output layer with `call` method\n",
        "    self.out = self.call(self.input_layer)\n",
        "\n",
        "\n",
        "  def call(self, x, training=False):\n",
        "    _x = []\n",
        "    for i in range(len(self.window_sizes)):\n",
        "      x_conv = self.conv2d[i](x)\n",
        "      x_maxp = self.maxpool[i](x_conv)\n",
        "      x_flat = self.flatten[i](x_maxp)\n",
        "      _x.append(x_flat)\n",
        "\n",
        "    x = tf.concat(_x,1)\n",
        "    x = self.dropout(x,training=training)\n",
        "    x = self.fc1(x)\n",
        "    x = self.fc2(x)\n",
        "    return x\n",
        "\n",
        "def val_binary_init():\n",
        "  fout = open(f'{LOG_DIR}/training.csv','w')\n",
        "  fout.write(f'Epoch,TP,FP,TN,FN,Sens,Spec,Acc,MCC\\n')\n",
        "  fout.close()\n",
        "\n",
        "def val_binary(epoch,logs):\n",
        "  fout = open(f'{LOG_DIR}/training.csv','a')\n",
        "\n",
        "  y_pred = model.predict(x_test)\n",
        "  TN, FP, FN, TP =  metrics.confusion_matrix(y_test.argmax(axis=1), y_pred.argmax(axis=1)).ravel()\n",
        "\n",
        "  Sens = TP/(TP+FN) if TP+FN > 0 else 0.0\n",
        "  Spec = TN/(FP+TN) if FP+TN > 0 else 0.0\n",
        "  Acc = (TP+TN)/(TP+FP+TN+FN)\n",
        "  MCC = (TP*TN-FP*FN)/math.sqrt((TP+FP)*(TP+FN)*(TN+FP)*(TN+FN)) if TP+FP > 0 and FP+TN > 0 and TP+FN and TN+FN else 0.0\n",
        "  F1 = 2*TP/(2*TP+FP+FN)\n",
        "  \n",
        "  fout.write(f'{epoch + 1},{TP},{FP},{TN},{FN},{Sens:.4f},{Spec:.4f},{Acc:.4f},{MCC:.4f}\\n')\n",
        "  fout.close()"
      ],
      "execution_count": null,
      "outputs": []
    },
    {
      "cell_type": "code",
      "metadata": {
        "colab": {
          "base_uri": "https://localhost:8080/"
        },
        "id": "U5w_kR1XjRdc",
        "outputId": "d4ff24da-4807-46d2-d15d-242d373acab0"
      },
      "source": [
        "NUM_FILTER = 256\n",
        "NUM_HIDDEN = 128\n",
        "LOG_DIR    = f'/content/drive/MyDrive/MultiCNN/pssm_f{NUM_FILTER}_h{NUM_HIDDEN}_w8-48s8'\n",
        "!mkdir {LOG_DIR}\n",
        "\n",
        "model = DeepScan(\n",
        "    num_filters=NUM_FILTER,\n",
        "    num_hidden=NUM_HIDDEN,\n",
        "    window_sizes=[8,16,24,32,40,48])\n",
        "model.compile(optimizer='adam', loss='categorical_crossentropy', metrics=['accuracy'])\n",
        "model.build(input_shape=x_train.shape)\n",
        "model.summary()\n",
        "\n",
        "# Train the model.\n",
        "val_binary_init()\n",
        "\n",
        "model.fit(\n",
        "    x_train,\n",
        "    y_train,\n",
        "    batch_size=BATCH_SIZE,\n",
        "    epochs=EPOCHS,\n",
        "    validation_data=(x_test, y_test),\n",
        "    callbacks=[\n",
        "      tf.keras.callbacks.LambdaCallback(on_epoch_end=val_binary),\n",
        "      tf.keras.callbacks.ModelCheckpoint(LOG_DIR + '/weights.{epoch:02d}', save_weights_only=True, monitor='val_loss', mode='max')\n",
        "    ]\n",
        ")"
      ],
      "execution_count": null,
      "outputs": [
        {
          "output_type": "stream",
          "text": [
            "mkdir: cannot create directory ‘/content/drive/MyDrive/MultiCNN/pssm_f256_h128_w8-48s8’: File exists\n",
            "Model: \"deep_scan_1\"\n",
            "_________________________________________________________________\n",
            "Layer (type)                 Output Shape              Param #   \n",
            "=================================================================\n",
            "conv2d_6 (Conv2D)            (None, 1, 5120, 256)      41216     \n",
            "_________________________________________________________________\n",
            "conv2d_7 (Conv2D)            (None, 1, 5112, 256)      82176     \n",
            "_________________________________________________________________\n",
            "conv2d_8 (Conv2D)            (None, 1, 5104, 256)      123136    \n",
            "_________________________________________________________________\n",
            "conv2d_9 (Conv2D)            (None, 1, 5096, 256)      164096    \n",
            "_________________________________________________________________\n",
            "conv2d_10 (Conv2D)           (None, 1, 5088, 256)      205056    \n",
            "_________________________________________________________________\n",
            "conv2d_11 (Conv2D)           (None, 1, 5080, 256)      246016    \n",
            "_________________________________________________________________\n",
            "max_pooling2d_6 (MaxPooling2 (None, 1, 1, 256)         0         \n",
            "_________________________________________________________________\n",
            "max_pooling2d_7 (MaxPooling2 (None, 1, 1, 256)         0         \n",
            "_________________________________________________________________\n",
            "max_pooling2d_8 (MaxPooling2 (None, 1, 1, 256)         0         \n",
            "_________________________________________________________________\n",
            "max_pooling2d_9 (MaxPooling2 (None, 1, 1, 256)         0         \n",
            "_________________________________________________________________\n",
            "max_pooling2d_10 (MaxPooling (None, 1, 1, 256)         0         \n",
            "_________________________________________________________________\n",
            "max_pooling2d_11 (MaxPooling (None, 1, 1, 256)         0         \n",
            "_________________________________________________________________\n",
            "flatten_6 (Flatten)          (None, 256)               0         \n",
            "_________________________________________________________________\n",
            "flatten_7 (Flatten)          (None, 256)               0         \n",
            "_________________________________________________________________\n",
            "flatten_8 (Flatten)          (None, 256)               0         \n",
            "_________________________________________________________________\n",
            "flatten_9 (Flatten)          (None, 256)               0         \n",
            "_________________________________________________________________\n",
            "flatten_10 (Flatten)         (None, 256)               0         \n",
            "_________________________________________________________________\n",
            "flatten_11 (Flatten)         (None, 256)               0         \n",
            "_________________________________________________________________\n",
            "dropout_1 (Dropout)          (None, 1536)              0         \n",
            "_________________________________________________________________\n",
            "dense_2 (Dense)              (None, 128)               196736    \n",
            "_________________________________________________________________\n",
            "dense_3 (Dense)              (None, 2)                 258       \n",
            "=================================================================\n",
            "Total params: 1,058,690\n",
            "Trainable params: 1,058,690\n",
            "Non-trainable params: 0\n",
            "_________________________________________________________________\n",
            "Epoch 1/100\n",
            "31/31 [==============================] - 60s 2s/step - loss: 4.3286 - accuracy: 0.7380 - val_loss: 0.4161 - val_accuracy: 0.8601\n",
            "Epoch 2/100\n",
            "31/31 [==============================] - 53s 2s/step - loss: 0.4808 - accuracy: 0.8387 - val_loss: 0.4023 - val_accuracy: 0.8601\n",
            "Epoch 3/100\n",
            "31/31 [==============================] - 53s 2s/step - loss: 0.4303 - accuracy: 0.8439 - val_loss: 0.3866 - val_accuracy: 0.8601\n",
            "Epoch 4/100\n",
            "31/31 [==============================] - 53s 2s/step - loss: 0.3955 - accuracy: 0.8506 - val_loss: 0.3411 - val_accuracy: 0.8601\n",
            "Epoch 5/100\n",
            "31/31 [==============================] - 53s 2s/step - loss: 0.3816 - accuracy: 0.8412 - val_loss: 0.3011 - val_accuracy: 0.8601\n",
            "Epoch 6/100\n",
            "31/31 [==============================] - 53s 2s/step - loss: 0.3302 - accuracy: 0.8543 - val_loss: 0.2815 - val_accuracy: 0.8601\n",
            "Epoch 7/100\n",
            "31/31 [==============================] - 54s 2s/step - loss: 0.2956 - accuracy: 0.8629 - val_loss: 0.2694 - val_accuracy: 0.8964\n",
            "Epoch 8/100\n",
            "31/31 [==============================] - 53s 2s/step - loss: 0.2866 - accuracy: 0.8724 - val_loss: 0.2678 - val_accuracy: 0.8912\n",
            "Epoch 9/100\n",
            "31/31 [==============================] - 53s 2s/step - loss: 0.2444 - accuracy: 0.8985 - val_loss: 0.2561 - val_accuracy: 0.9041\n",
            "Epoch 10/100\n",
            "31/31 [==============================] - 53s 2s/step - loss: 0.2185 - accuracy: 0.9136 - val_loss: 0.1997 - val_accuracy: 0.9326\n",
            "Epoch 11/100\n",
            "31/31 [==============================] - 53s 2s/step - loss: 0.1858 - accuracy: 0.9305 - val_loss: 0.2259 - val_accuracy: 0.9210\n",
            "Epoch 12/100\n",
            "31/31 [==============================] - 53s 2s/step - loss: 0.1796 - accuracy: 0.9290 - val_loss: 0.2389 - val_accuracy: 0.9210\n",
            "Epoch 13/100\n",
            "31/31 [==============================] - 53s 2s/step - loss: 0.1717 - accuracy: 0.9348 - val_loss: 0.2419 - val_accuracy: 0.9210\n",
            "Epoch 14/100\n",
            "31/31 [==============================] - 53s 2s/step - loss: 0.1416 - accuracy: 0.9469 - val_loss: 0.1594 - val_accuracy: 0.9534\n",
            "Epoch 15/100\n",
            "31/31 [==============================] - 53s 2s/step - loss: 0.1133 - accuracy: 0.9571 - val_loss: 0.2311 - val_accuracy: 0.9275\n",
            "Epoch 16/100\n",
            "31/31 [==============================] - 53s 2s/step - loss: 0.1074 - accuracy: 0.9619 - val_loss: 0.2081 - val_accuracy: 0.9365\n",
            "Epoch 17/100\n",
            "31/31 [==============================] - 53s 2s/step - loss: 0.0970 - accuracy: 0.9616 - val_loss: 0.1868 - val_accuracy: 0.9417\n",
            "Epoch 18/100\n",
            "31/31 [==============================] - 53s 2s/step - loss: 0.0777 - accuracy: 0.9741 - val_loss: 0.1437 - val_accuracy: 0.9560\n",
            "Epoch 19/100\n",
            "31/31 [==============================] - 53s 2s/step - loss: 0.0998 - accuracy: 0.9642 - val_loss: 0.1774 - val_accuracy: 0.9469\n",
            "Epoch 20/100\n",
            "31/31 [==============================] - 53s 2s/step - loss: 0.0752 - accuracy: 0.9721 - val_loss: 0.1358 - val_accuracy: 0.9585\n",
            "Epoch 21/100\n",
            "31/31 [==============================] - 53s 2s/step - loss: 0.0706 - accuracy: 0.9765 - val_loss: 0.1398 - val_accuracy: 0.9598\n",
            "Epoch 22/100\n",
            "31/31 [==============================] - 53s 2s/step - loss: 0.0607 - accuracy: 0.9770 - val_loss: 0.1168 - val_accuracy: 0.9624\n",
            "Epoch 23/100\n",
            "31/31 [==============================] - 53s 2s/step - loss: 0.0454 - accuracy: 0.9850 - val_loss: 0.1229 - val_accuracy: 0.9624\n",
            "Epoch 24/100\n",
            "31/31 [==============================] - 53s 2s/step - loss: 0.0399 - accuracy: 0.9904 - val_loss: 0.1478 - val_accuracy: 0.9624\n",
            "Epoch 25/100\n",
            "31/31 [==============================] - 53s 2s/step - loss: 0.0385 - accuracy: 0.9897 - val_loss: 0.2365 - val_accuracy: 0.9430\n",
            "Epoch 26/100\n",
            "31/31 [==============================] - 53s 2s/step - loss: 0.0395 - accuracy: 0.9881 - val_loss: 0.1970 - val_accuracy: 0.9508\n",
            "Epoch 27/100\n",
            "31/31 [==============================] - 53s 2s/step - loss: 0.0339 - accuracy: 0.9872 - val_loss: 0.1865 - val_accuracy: 0.9573\n",
            "Epoch 28/100\n",
            "31/31 [==============================] - 53s 2s/step - loss: 0.0325 - accuracy: 0.9903 - val_loss: 0.1426 - val_accuracy: 0.9534\n",
            "Epoch 29/100\n",
            "31/31 [==============================] - 53s 2s/step - loss: 0.0485 - accuracy: 0.9842 - val_loss: 0.1759 - val_accuracy: 0.9611\n",
            "Epoch 30/100\n",
            "31/31 [==============================] - 53s 2s/step - loss: 0.0237 - accuracy: 0.9933 - val_loss: 0.1421 - val_accuracy: 0.9663\n",
            "Epoch 31/100\n",
            "31/31 [==============================] - 53s 2s/step - loss: 0.0316 - accuracy: 0.9893 - val_loss: 0.1863 - val_accuracy: 0.9598\n",
            "Epoch 32/100\n",
            "31/31 [==============================] - 53s 2s/step - loss: 0.0590 - accuracy: 0.9800 - val_loss: 0.1495 - val_accuracy: 0.9521\n",
            "Epoch 33/100\n",
            "31/31 [==============================] - 53s 2s/step - loss: 0.0665 - accuracy: 0.9793 - val_loss: 0.1288 - val_accuracy: 0.9624\n",
            "Epoch 34/100\n",
            "31/31 [==============================] - 53s 2s/step - loss: 0.0369 - accuracy: 0.9911 - val_loss: 0.1766 - val_accuracy: 0.9585\n",
            "Epoch 35/100\n",
            "31/31 [==============================] - 53s 2s/step - loss: 0.0291 - accuracy: 0.9927 - val_loss: 0.1953 - val_accuracy: 0.9534\n",
            "Epoch 36/100\n",
            "31/31 [==============================] - 53s 2s/step - loss: 0.0236 - accuracy: 0.9943 - val_loss: 0.2134 - val_accuracy: 0.9534\n",
            "Epoch 37/100\n",
            "31/31 [==============================] - 53s 2s/step - loss: 0.0255 - accuracy: 0.9925 - val_loss: 0.1530 - val_accuracy: 0.9650\n",
            "Epoch 38/100\n",
            "31/31 [==============================] - 53s 2s/step - loss: 0.0206 - accuracy: 0.9954 - val_loss: 0.1628 - val_accuracy: 0.9637\n",
            "Epoch 39/100\n",
            "31/31 [==============================] - 53s 2s/step - loss: 0.0127 - accuracy: 0.9978 - val_loss: 0.2218 - val_accuracy: 0.9534\n",
            "Epoch 40/100\n",
            "31/31 [==============================] - 53s 2s/step - loss: 0.0174 - accuracy: 0.9948 - val_loss: 0.1966 - val_accuracy: 0.9650\n",
            "Epoch 41/100\n",
            "31/31 [==============================] - 53s 2s/step - loss: 0.0106 - accuracy: 0.9986 - val_loss: 0.1728 - val_accuracy: 0.9611\n",
            "Epoch 42/100\n",
            "31/31 [==============================] - 53s 2s/step - loss: 0.0137 - accuracy: 0.9964 - val_loss: 0.2167 - val_accuracy: 0.9598\n",
            "Epoch 43/100\n",
            "31/31 [==============================] - 53s 2s/step - loss: 0.0185 - accuracy: 0.9948 - val_loss: 0.1461 - val_accuracy: 0.9715\n",
            "Epoch 44/100\n",
            "31/31 [==============================] - 53s 2s/step - loss: 0.0215 - accuracy: 0.9948 - val_loss: 0.2077 - val_accuracy: 0.9585\n",
            "Epoch 45/100\n",
            "31/31 [==============================] - 53s 2s/step - loss: 0.0258 - accuracy: 0.9930 - val_loss: 0.1901 - val_accuracy: 0.9611\n",
            "Epoch 46/100\n",
            "31/31 [==============================] - 53s 2s/step - loss: 0.0196 - accuracy: 0.9946 - val_loss: 0.1326 - val_accuracy: 0.9663\n",
            "Epoch 47/100\n",
            "31/31 [==============================] - 53s 2s/step - loss: 0.0228 - accuracy: 0.9936 - val_loss: 0.2859 - val_accuracy: 0.9482\n",
            "Epoch 48/100\n",
            "31/31 [==============================] - 53s 2s/step - loss: 0.0240 - accuracy: 0.9915 - val_loss: 0.2402 - val_accuracy: 0.9598\n",
            "Epoch 49/100\n",
            "31/31 [==============================] - 53s 2s/step - loss: 0.0193 - accuracy: 0.9939 - val_loss: 0.2980 - val_accuracy: 0.9456\n",
            "Epoch 50/100\n",
            "31/31 [==============================] - 53s 2s/step - loss: 0.0202 - accuracy: 0.9952 - val_loss: 0.1603 - val_accuracy: 0.9689\n",
            "Epoch 51/100\n",
            "31/31 [==============================] - 53s 2s/step - loss: 0.0198 - accuracy: 0.9926 - val_loss: 0.2288 - val_accuracy: 0.9585\n",
            "Epoch 52/100\n",
            "31/31 [==============================] - 53s 2s/step - loss: 0.0239 - accuracy: 0.9937 - val_loss: 0.1688 - val_accuracy: 0.9650\n",
            "Epoch 53/100\n",
            "31/31 [==============================] - 53s 2s/step - loss: 0.0259 - accuracy: 0.9931 - val_loss: 0.1726 - val_accuracy: 0.9624\n",
            "Epoch 54/100\n",
            "31/31 [==============================] - 53s 2s/step - loss: 0.0303 - accuracy: 0.9901 - val_loss: 0.1550 - val_accuracy: 0.9689\n",
            "Epoch 55/100\n",
            "31/31 [==============================] - 53s 2s/step - loss: 0.0200 - accuracy: 0.9929 - val_loss: 0.1476 - val_accuracy: 0.9689\n",
            "Epoch 56/100\n",
            "31/31 [==============================] - 53s 2s/step - loss: 0.0308 - accuracy: 0.9880 - val_loss: 0.3729 - val_accuracy: 0.9339\n",
            "Epoch 57/100\n",
            "31/31 [==============================] - 53s 2s/step - loss: 0.0208 - accuracy: 0.9928 - val_loss: 0.2176 - val_accuracy: 0.9598\n",
            "Epoch 58/100\n",
            "31/31 [==============================] - 53s 2s/step - loss: 0.0501 - accuracy: 0.9842 - val_loss: 0.2323 - val_accuracy: 0.9547\n",
            "Epoch 59/100\n",
            "31/31 [==============================] - 53s 2s/step - loss: 0.0336 - accuracy: 0.9887 - val_loss: 0.2286 - val_accuracy: 0.9598\n",
            "Epoch 60/100\n",
            "31/31 [==============================] - 53s 2s/step - loss: 0.0256 - accuracy: 0.9917 - val_loss: 0.2090 - val_accuracy: 0.9598\n",
            "Epoch 61/100\n",
            "31/31 [==============================] - 54s 2s/step - loss: 0.0133 - accuracy: 0.9955 - val_loss: 0.2369 - val_accuracy: 0.9560\n",
            "Epoch 62/100\n",
            "31/31 [==============================] - 54s 2s/step - loss: 0.0140 - accuracy: 0.9960 - val_loss: 0.1648 - val_accuracy: 0.9663\n",
            "Epoch 63/100\n",
            "31/31 [==============================] - 53s 2s/step - loss: 0.0127 - accuracy: 0.9965 - val_loss: 0.1680 - val_accuracy: 0.9702\n",
            "Epoch 64/100\n",
            "31/31 [==============================] - 53s 2s/step - loss: 0.0194 - accuracy: 0.9959 - val_loss: 0.1384 - val_accuracy: 0.9741\n",
            "Epoch 65/100\n",
            "31/31 [==============================] - 53s 2s/step - loss: 0.0305 - accuracy: 0.9895 - val_loss: 0.1315 - val_accuracy: 0.9741\n",
            "Epoch 66/100\n",
            "31/31 [==============================] - 53s 2s/step - loss: 0.0414 - accuracy: 0.9866 - val_loss: 0.2319 - val_accuracy: 0.9585\n",
            "Epoch 67/100\n",
            "31/31 [==============================] - 54s 2s/step - loss: 0.0150 - accuracy: 0.9952 - val_loss: 0.2375 - val_accuracy: 0.9598\n",
            "Epoch 68/100\n",
            "31/31 [==============================] - 54s 2s/step - loss: 0.0221 - accuracy: 0.9941 - val_loss: 0.1593 - val_accuracy: 0.9676\n",
            "Epoch 69/100\n",
            "31/31 [==============================] - 53s 2s/step - loss: 0.0211 - accuracy: 0.9925 - val_loss: 0.1707 - val_accuracy: 0.9676\n",
            "Epoch 70/100\n",
            "31/31 [==============================] - 53s 2s/step - loss: 0.0165 - accuracy: 0.9961 - val_loss: 0.3491 - val_accuracy: 0.9430\n",
            "Epoch 71/100\n",
            "31/31 [==============================] - 53s 2s/step - loss: 0.0132 - accuracy: 0.9963 - val_loss: 0.1845 - val_accuracy: 0.9650\n",
            "Epoch 72/100\n",
            "31/31 [==============================] - 53s 2s/step - loss: 0.0099 - accuracy: 0.9973 - val_loss: 0.2184 - val_accuracy: 0.9573\n",
            "Epoch 73/100\n",
            "31/31 [==============================] - 54s 2s/step - loss: 0.0141 - accuracy: 0.9963 - val_loss: 0.2120 - val_accuracy: 0.9624\n",
            "Epoch 74/100\n",
            "31/31 [==============================] - 54s 2s/step - loss: 0.0082 - accuracy: 0.9991 - val_loss: 0.2129 - val_accuracy: 0.9624\n",
            "Epoch 75/100\n",
            "31/31 [==============================] - 53s 2s/step - loss: 0.0072 - accuracy: 0.9975 - val_loss: 0.2628 - val_accuracy: 0.9534\n",
            "Epoch 76/100\n",
            "31/31 [==============================] - 54s 2s/step - loss: 0.0058 - accuracy: 0.9992 - val_loss: 0.1951 - val_accuracy: 0.9663\n",
            "Epoch 77/100\n",
            "31/31 [==============================] - 53s 2s/step - loss: 0.0128 - accuracy: 0.9973 - val_loss: 0.1919 - val_accuracy: 0.9663\n",
            "Epoch 78/100\n",
            "31/31 [==============================] - 53s 2s/step - loss: 0.0080 - accuracy: 0.9975 - val_loss: 0.2335 - val_accuracy: 0.9585\n",
            "Epoch 79/100\n",
            "31/31 [==============================] - 53s 2s/step - loss: 0.0124 - accuracy: 0.9979 - val_loss: 0.2687 - val_accuracy: 0.9585\n",
            "Epoch 80/100\n",
            "31/31 [==============================] - 53s 2s/step - loss: 0.0162 - accuracy: 0.9945 - val_loss: 0.3492 - val_accuracy: 0.9443\n",
            "Epoch 81/100\n",
            "31/31 [==============================] - 53s 2s/step - loss: 0.0172 - accuracy: 0.9951 - val_loss: 0.2045 - val_accuracy: 0.9624\n",
            "Epoch 82/100\n",
            "31/31 [==============================] - 53s 2s/step - loss: 0.0106 - accuracy: 0.9975 - val_loss: 0.3814 - val_accuracy: 0.9430\n",
            "Epoch 83/100\n",
            "31/31 [==============================] - 53s 2s/step - loss: 0.0174 - accuracy: 0.9948 - val_loss: 0.3039 - val_accuracy: 0.9521\n",
            "Epoch 84/100\n",
            "31/31 [==============================] - 53s 2s/step - loss: 0.0143 - accuracy: 0.9961 - val_loss: 0.1827 - val_accuracy: 0.9637\n",
            "Epoch 85/100\n",
            "31/31 [==============================] - 53s 2s/step - loss: 0.0121 - accuracy: 0.9971 - val_loss: 0.1518 - val_accuracy: 0.9728\n",
            "Epoch 86/100\n",
            "31/31 [==============================] - 53s 2s/step - loss: 0.0152 - accuracy: 0.9955 - val_loss: 0.1915 - val_accuracy: 0.9650\n",
            "Epoch 87/100\n",
            "31/31 [==============================] - 54s 2s/step - loss: 0.0156 - accuracy: 0.9947 - val_loss: 0.2214 - val_accuracy: 0.9611\n",
            "Epoch 88/100\n",
            "31/31 [==============================] - 53s 2s/step - loss: 0.0112 - accuracy: 0.9967 - val_loss: 0.1348 - val_accuracy: 0.9728\n",
            "Epoch 89/100\n",
            "31/31 [==============================] - 54s 2s/step - loss: 0.0237 - accuracy: 0.9917 - val_loss: 0.1465 - val_accuracy: 0.9767\n",
            "Epoch 90/100\n",
            "31/31 [==============================] - 53s 2s/step - loss: 0.1215 - accuracy: 0.9595 - val_loss: 0.1242 - val_accuracy: 0.9663\n",
            "Epoch 91/100\n",
            "31/31 [==============================] - 53s 2s/step - loss: 0.0677 - accuracy: 0.9748 - val_loss: 0.1424 - val_accuracy: 0.9650\n",
            "Epoch 92/100\n",
            "31/31 [==============================] - 53s 2s/step - loss: 0.0300 - accuracy: 0.9901 - val_loss: 0.1586 - val_accuracy: 0.9663\n",
            "Epoch 93/100\n",
            "31/31 [==============================] - 53s 2s/step - loss: 0.0342 - accuracy: 0.9869 - val_loss: 0.1708 - val_accuracy: 0.9611\n",
            "Epoch 94/100\n",
            "31/31 [==============================] - 53s 2s/step - loss: 0.0211 - accuracy: 0.9935 - val_loss: 0.1911 - val_accuracy: 0.9585\n",
            "Epoch 95/100\n",
            "31/31 [==============================] - 54s 2s/step - loss: 0.0217 - accuracy: 0.9939 - val_loss: 0.2226 - val_accuracy: 0.9469\n",
            "Epoch 96/100\n",
            "31/31 [==============================] - 53s 2s/step - loss: 0.0173 - accuracy: 0.9962 - val_loss: 0.1333 - val_accuracy: 0.9728\n",
            "Epoch 97/100\n",
            "31/31 [==============================] - 53s 2s/step - loss: 0.0146 - accuracy: 0.9971 - val_loss: 0.1702 - val_accuracy: 0.9663\n",
            "Epoch 98/100\n",
            "31/31 [==============================] - 53s 2s/step - loss: 0.0065 - accuracy: 0.9984 - val_loss: 0.2351 - val_accuracy: 0.9573\n",
            "Epoch 99/100\n",
            "31/31 [==============================] - 53s 2s/step - loss: 0.0089 - accuracy: 0.9983 - val_loss: 0.1475 - val_accuracy: 0.9728\n",
            "Epoch 100/100\n",
            "31/31 [==============================] - 53s 2s/step - loss: 0.0101 - accuracy: 0.9977 - val_loss: 0.1755 - val_accuracy: 0.9676\n"
          ],
          "name": "stdout"
        },
        {
          "output_type": "execute_result",
          "data": {
            "text/plain": [
              "<tensorflow.python.keras.callbacks.History at 0x7f96002e8160>"
            ]
          },
          "metadata": {
            "tags": []
          },
          "execution_count": 8
        }
      ]
    },
    {
      "cell_type": "code",
      "metadata": {
        "id": "VJ-2jbOGWv3O"
      },
      "source": [
        "NUM_FILTER = 256\n",
        "NUM_HIDDEN = 128\n",
        "BATCH_SIZE = 32\n",
        "LOG_DIR    = f'/content/drive/MyDrive/MultiCNN/pssm_f{NUM_FILTER}_h{NUM_HIDDEN}_w8-36s4'\n",
        "!mkdir {LOG_DIR}\n",
        "\n",
        "model = DeepScan(\n",
        "    num_filters=NUM_FILTER,\n",
        "    num_hidden=NUM_HIDDEN,\n",
        "    window_sizes=[8,12,16,20,24,28,32,36])\n",
        "model.compile(optimizer='adam', loss='categorical_crossentropy', metrics=['accuracy'])\n",
        "model.build(input_shape=x_train.shape)\n",
        "model.summary()\n",
        "\n",
        "# Train the model.\n",
        "val_binary_init()\n",
        "\n",
        "model.fit(\n",
        "    x_train,\n",
        "    y_train,\n",
        "    batch_size=BATCH_SIZE,\n",
        "    epochs=EPOCHS,\n",
        "    validation_data=(x_test, y_test),\n",
        "    callbacks=[\n",
        "      tf.keras.callbacks.LambdaCallback(on_epoch_end=val_binary),\n",
        "      tf.keras.callbacks.ModelCheckpoint(LOG_DIR + '/weights.{epoch:02d}', save_weights_only=True, monitor='val_loss', mode='max')\n",
        "    ]\n",
        ")"
      ],
      "execution_count": null,
      "outputs": []
    },
    {
      "cell_type": "code",
      "metadata": {
        "colab": {
          "base_uri": "https://localhost:8080/"
        },
        "id": "M3l8wD12AMEK",
        "outputId": "b12b4602-afe3-4f2c-ec1a-666f2b5bdad9"
      },
      "source": [
        "NUM_FILTER = 256\n",
        "NUM_HIDDEN = 128\n",
        "LOG_DIR    = f'/content/drive/MyDrive/MultiCNN/pssm_f{NUM_FILTER}_h{NUM_HIDDEN}_w8-48s8'\n",
        "!mkdir {LOG_DIR}\n",
        "\n",
        "model = DeepScan(\n",
        "    num_filters=NUM_FILTER,\n",
        "    num_hidden=NUM_HIDDEN,\n",
        "    window_sizes=[8,16,24,32,40,48])\n",
        "model.compile(optimizer='adam', loss='categorical_crossentropy', metrics=['accuracy'])\n",
        "model.build(input_shape=x_train.shape)\n",
        "model.summary()"
      ],
      "execution_count": null,
      "outputs": [
        {
          "output_type": "stream",
          "text": [
            "mkdir: cannot create directory ‘/content/drive/MyDrive/MultiCNN/pssm_f256_h128_w8-48s8’: File exists\n",
            "Model: \"deep_scan\"\n",
            "_________________________________________________________________\n",
            "Layer (type)                 Output Shape              Param #   \n",
            "=================================================================\n",
            "conv2d (Conv2D)              (None, 1, 5120, 256)      41216     \n",
            "_________________________________________________________________\n",
            "conv2d_1 (Conv2D)            (None, 1, 5112, 256)      82176     \n",
            "_________________________________________________________________\n",
            "conv2d_2 (Conv2D)            (None, 1, 5104, 256)      123136    \n",
            "_________________________________________________________________\n",
            "conv2d_3 (Conv2D)            (None, 1, 5096, 256)      164096    \n",
            "_________________________________________________________________\n",
            "conv2d_4 (Conv2D)            (None, 1, 5088, 256)      205056    \n",
            "_________________________________________________________________\n",
            "conv2d_5 (Conv2D)            (None, 1, 5080, 256)      246016    \n",
            "_________________________________________________________________\n",
            "max_pooling2d (MaxPooling2D) (None, 1, 1, 256)         0         \n",
            "_________________________________________________________________\n",
            "max_pooling2d_1 (MaxPooling2 (None, 1, 1, 256)         0         \n",
            "_________________________________________________________________\n",
            "max_pooling2d_2 (MaxPooling2 (None, 1, 1, 256)         0         \n",
            "_________________________________________________________________\n",
            "max_pooling2d_3 (MaxPooling2 (None, 1, 1, 256)         0         \n",
            "_________________________________________________________________\n",
            "max_pooling2d_4 (MaxPooling2 (None, 1, 1, 256)         0         \n",
            "_________________________________________________________________\n",
            "max_pooling2d_5 (MaxPooling2 (None, 1, 1, 256)         0         \n",
            "_________________________________________________________________\n",
            "flatten (Flatten)            (None, 256)               0         \n",
            "_________________________________________________________________\n",
            "flatten_1 (Flatten)          (None, 256)               0         \n",
            "_________________________________________________________________\n",
            "flatten_2 (Flatten)          (None, 256)               0         \n",
            "_________________________________________________________________\n",
            "flatten_3 (Flatten)          (None, 256)               0         \n",
            "_________________________________________________________________\n",
            "flatten_4 (Flatten)          (None, 256)               0         \n",
            "_________________________________________________________________\n",
            "flatten_5 (Flatten)          (None, 256)               0         \n",
            "_________________________________________________________________\n",
            "dropout (Dropout)            (None, 1536)              0         \n",
            "_________________________________________________________________\n",
            "dense (Dense)                (None, 128)               196736    \n",
            "_________________________________________________________________\n",
            "dense_1 (Dense)              (None, 2)                 258       \n",
            "=================================================================\n",
            "Total params: 1,058,690\n",
            "Trainable params: 1,058,690\n",
            "Non-trainable params: 0\n",
            "_________________________________________________________________\n"
          ],
          "name": "stdout"
        }
      ]
    },
    {
      "cell_type": "code",
      "metadata": {
        "colab": {
          "base_uri": "https://localhost:8080/"
        },
        "id": "7CLo5KEPAlJS",
        "outputId": "13720e46-9778-44a3-ca63-e70a564d45a4"
      },
      "source": [
        "model.load_weights(f'/content/drive/MyDrive/MultiCNN/pssm_f{NUM_FILTER}_h{NUM_HIDDEN}_w8-48s8/weights.35')"
      ],
      "execution_count": null,
      "outputs": [
        {
          "output_type": "execute_result",
          "data": {
            "text/plain": [
              "<tensorflow.python.training.tracking.util.CheckpointLoadStatus at 0x7f5d405a8320>"
            ]
          },
          "metadata": {
            "tags": []
          },
          "execution_count": 8
        }
      ]
    },
    {
      "cell_type": "code",
      "metadata": {
        "id": "pEBYTH4RArnC"
      },
      "source": [
        "y_pred = model.predict(x_test)\n",
        "\n",
        "out_file = open(\"/content/drive/MyDrive/MultiCNN/pssm_pred.txt\", \"w\")\n",
        "for row in y_pred:\n",
        "    np.savetxt(out_file, row)\n",
        "\n",
        "out_file.close()"
      ],
      "execution_count": null,
      "outputs": []
    },
    {
      "cell_type": "code",
      "metadata": {
        "id": "N3FdQDvgF72i",
        "colab": {
          "base_uri": "https://localhost:8080/"
        },
        "outputId": "4c060601-380b-4fc7-8e82-6399afae1401"
      },
      "source": [
        "y_pred.shape"
      ],
      "execution_count": null,
      "outputs": [
        {
          "output_type": "execute_result",
          "data": {
            "text/plain": [
              "(772, 2)"
            ]
          },
          "metadata": {
            "tags": []
          },
          "execution_count": 10
        }
      ]
    },
    {
      "cell_type": "code",
      "metadata": {
        "id": "lg18wVxAGyNj"
      },
      "source": [
        "out_file = open(\"/content/drive/MyDrive/MultiCNN/y_test.txt\", \"w\")\n",
        "for row in y_test:\n",
        "    np.savetxt(out_file, row)\n",
        "\n",
        "out_file.close()"
      ],
      "execution_count": null,
      "outputs": []
    }
  ]
}